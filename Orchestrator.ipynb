{
 "cells": [
  {
   "cell_type": "code",
   "execution_count": 0,
   "metadata": {
    "application/vnd.databricks.v1+cell": {
     "cellMetadata": {
      "byteLimit": 2048000,
      "rowLimit": 10000
     },
     "inputWidgets": {},
     "nuid": "57f05e07-d84d-4d9d-b8a8-8a170c7e7f95",
     "showTitle": false,
     "tableResultSettingsMap": {},
     "title": ""
    }
   },
   "outputs": [],
   "source": [
    "# Databricks notebook source\n",
    "\n",
    "# 1. Setup\n",
    "%pip install -r /Workspace/Repos/vthedataeng@gmail.com/wfa_profile_analyzer/requirements.txt\n",
    "dbutils.library.restartPython()\n"
   ]
  },
  {
   "cell_type": "code",
   "execution_count": 0,
   "metadata": {
    "application/vnd.databricks.v1+cell": {
     "cellMetadata": {
      "byteLimit": 2048000,
      "rowLimit": 10000
     },
     "inputWidgets": {},
     "nuid": "653bef1e-1a04-4094-9e15-db5386fb91cd",
     "showTitle": false,
     "tableResultSettingsMap": {},
     "title": ""
    }
   },
   "outputs": [],
   "source": [
    "# COMMAND ----------\n",
    "# 2. Imports & config\n",
    "\n",
    "import sys\n",
    "from pathlib import Path\n",
    "import pandas as pd\n",
    "from src.config import load_config\n",
    "from src.processing.batch_processor import ProfileBatchProcessor\n",
    "from src.evaluation.compare import evaluate_multi_model_dataframe\n",
    "\n",
    "CONFIG_PATH = Path(\"/Workspace/Repos/vthedataeng@gmail.com/wfa_profile_analyzer/config/config.yaml\")\n",
    "data_path = \"/Workspace/Users/vthedataeng@gmail.com/wfa_profile_analyzer/about_me_quality_dataset.csv\"\n",
    "\n",
    "config = load_config(CONFIG_PATH)\n",
    "print(f\"Models enabled: {len(config.enabled_models)}\")\n",
    "for i, m in enumerate(config.enabled_models, 1):\n",
    "    print(f\"  {i}. {m.name} -> {m.model_id}\")"
   ]
  },
  {
   "cell_type": "code",
   "execution_count": 0,
   "metadata": {
    "application/vnd.databricks.v1+cell": {
     "cellMetadata": {
      "byteLimit": 2048000,
      "rowLimit": 10000
     },
     "inputWidgets": {},
     "nuid": "34678d8e-20e9-4b1a-a57b-0529b49800f3",
     "showTitle": false,
     "tableResultSettingsMap": {},
     "title": ""
    }
   },
   "outputs": [],
   "source": [
    "# COMMAND ----------\n",
    "# 4. Initialize processor\n",
    "\n",
    "processor = ProfileBatchProcessor(config)\n",
    "print(processor.get_model_summary())\n"
   ]
  },
  {
   "cell_type": "code",
   "execution_count": 0,
   "metadata": {
    "application/vnd.databricks.v1+cell": {
     "cellMetadata": {
      "byteLimit": 2048000,
      "rowLimit": 10000
     },
     "inputWidgets": {},
     "nuid": "c088b0ae-6f55-46a6-930e-04ab14a4e8dd",
     "showTitle": false,
     "tableResultSettingsMap": {},
     "title": ""
    }
   },
   "outputs": [],
   "source": [
    "# COMMAND ----------\n",
    "# 5. Provide input DataFrame\n",
    "\n",
    "df = pd.read_csv(data_path)\n",
    "\n",
    "print(f\"Processing {len(df)} rows with {len(config.enabled_models)} model(s)...\")\n",
    "result_df = processor.process_dataframe(df, input_column=config.data.dataset_column, parse_outputs=True)\n",
    "\n",
    "display(result_df)\n"
   ]
  },
  {
   "cell_type": "code",
   "execution_count": 0,
   "metadata": {
    "application/vnd.databricks.v1+cell": {
     "cellMetadata": {
      "byteLimit": 2048000,
      "rowLimit": 10000
     },
     "inputWidgets": {},
     "nuid": "5792d743-8678-4c2a-9666-672fe104d2c3",
     "showTitle": false,
     "tableResultSettingsMap": {},
     "title": ""
    }
   },
   "outputs": [],
   "source": [
    "# COMMAND ----------\n",
    "# 6. Evaluate (if you have human labels)\n",
    "\n",
    "evaluate_multi_model_dataframe(result_df, config, config.enabled_models)\n"
   ]
  },
  {
   "cell_type": "code",
   "execution_count": 0,
   "metadata": {
    "application/vnd.databricks.v1+cell": {
     "cellMetadata": {
      "byteLimit": 2048000,
      "rowLimit": 10000
     },
     "inputWidgets": {},
     "nuid": "3239980a-b3ef-4ddf-9d6f-ba03ccff064a",
     "showTitle": false,
     "tableResultSettingsMap": {},
     "title": ""
    }
   },
   "outputs": [],
   "source": [
    "# COMMAND ----------\n",
    "# 7. (Optional) Save results\n",
    "\n",
    "result_df.to_csv(\"/Workspace/Users/vthedataeng@gmail.com/wfa_profile_analyzer/results.csv\", index=False)\n",
    "print(\"Saved to /dbfs/tmp/wfa_profile_analysis_results.csv\")\n",
    "\n",
    "print(\"🎉 Done\")\n"
   ]
  }
 ],
 "metadata": {
  "application/vnd.databricks.v1+notebook": {
   "computePreferences": {
    "hardware": {
     "accelerator": null,
     "gpuPoolId": null,
     "memory": "HIGH"
    }
   },
   "dashboards": [],
   "environmentMetadata": {
    "base_environment": "",
    "environment_version": "4"
   },
   "inputWidgetPreferences": null,
   "language": "python",
   "notebookMetadata": {
    "pythonIndentUnit": 4
   },
   "notebookName": "Orchestrator",
   "widgets": {}
  },
  "language_info": {
   "name": "python"
  }
 },
 "nbformat": 4,
 "nbformat_minor": 0
}
